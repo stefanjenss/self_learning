{
 "cells": [
  {
   "cell_type": "markdown",
   "metadata": {},
   "source": [
    "# NFL Game Prediction - Exploratory Analysis\n",
    "\n",
    "This notebook explores the NFL data and demonstrates the prediction capabilities."
   ]
  },
  {
   "cell_type": "code",
   "execution_count": null,
   "metadata": {},
   "outputs": [],
   "source": [
    "import sys\n",
    "sys.path.append('..')\n",
    "\n",
    "import pandas as pd\n",
    "import numpy as np\n",
    "import matplotlib.pyplot as plt\n",
    "import seaborn as sns\n",
    "\n",
    "from config.config import RAW_DATA_DIR, PROCESSED_DATA_DIR\n",
    "\n",
    "%matplotlib inline\n",
    "plt.style.use('seaborn-v0_8-darkgrid')"
   ]
  },
  {
   "cell_type": "markdown",
   "metadata": {},
   "source": [
    "## Load Data"
   ]
  },
  {
   "cell_type": "code",
   "execution_count": null,
   "metadata": {},
   "outputs": [],
   "source": [
    "# Load raw data\n",
    "schedule = pd.read_parquet(RAW_DATA_DIR / 'schedule.parquet')\n",
    "pbp = pd.read_parquet(RAW_DATA_DIR / 'pbp.parquet')\n",
    "team_stats = pd.read_parquet(RAW_DATA_DIR / 'team_stats.parquet')\n",
    "\n",
    "print(f\"Schedule: {len(schedule)} games\")\n",
    "print(f\"Play-by-play: {len(pbp)} plays\")\n",
    "print(f\"Team stats: {len(team_stats)} records\")"
   ]
  },
  {
   "cell_type": "markdown",
   "metadata": {},
   "source": [
    "## Basic Statistics"
   ]
  },
  {
   "cell_type": "code",
   "execution_count": null,
   "metadata": {},
   "outputs": [],
   "source": [
    "# Home field advantage\n",
    "completed_games = schedule[schedule['home_score'].notna()]\n",
    "home_wins = (completed_games['home_score'] > completed_games['away_score']).mean()\n",
    "print(f\"Home win rate: {home_wins:.2%}\")\n",
    "\n",
    "# Average scores\n",
    "print(f\"Average home score: {completed_games['home_score'].mean():.1f}\")\n",
    "print(f\"Average away score: {completed_games['away_score'].mean():.1f}\")"
   ]
  },
  {
   "cell_type": "markdown",
   "metadata": {},
   "source": [
    "## Load Feature Data"
   ]
  },
  {
   "cell_type": "code",
   "execution_count": null,
   "metadata": {},
   "outputs": [],
   "source": [
    "features = pd.read_parquet(PROCESSED_DATA_DIR / 'game_features.parquet')\n",
    "print(f\"Features shape: {features.shape}\")\n",
    "features.head()"
   ]
  },
  {
   "cell_type": "markdown",
   "metadata": {},
   "source": [
    "## Feature Correlations"
   ]
  },
  {
   "cell_type": "code",
   "execution_count": null,
   "metadata": {},
   "outputs": [],
   "source": [
    "# Get numeric columns\n",
    "numeric_cols = features.select_dtypes(include=[np.number]).columns\n",
    "\n",
    "# Calculate correlation with target\n",
    "if 'home_win' in features.columns:\n",
    "    correlations = features[numeric_cols].corrwith(features['home_win']).sort_values(ascending=False)\n",
    "    print(\"Top 10 features correlated with home win:\")\n",
    "    print(correlations.head(10))\n",
    "    \n",
    "    # Plot\n",
    "    plt.figure(figsize=(10, 6))\n",
    "    correlations.head(15).plot(kind='barh')\n",
    "    plt.title('Top 15 Features Correlated with Home Win')\n",
    "    plt.xlabel('Correlation')\n",
    "    plt.tight_layout()\n",
    "    plt.show()"
   ]
  },
  {
   "cell_type": "markdown",
   "metadata": {},
   "source": [
    "## Load Model and Evaluate"
   ]
  },
  {
   "cell_type": "code",
   "execution_count": null,
   "metadata": {},
   "outputs": [],
   "source": [
    "from models.trainer import ModelTrainer\n",
    "from sklearn.metrics import classification_report, confusion_matrix\n",
    "\n",
    "# Load model\n",
    "trainer = ModelTrainer()\n",
    "trainer.load_model('ensemble')\n",
    "model = trainer.models['ensemble']\n",
    "\n",
    "# Prepare data\n",
    "X, y = trainer.prepare_data(features, target_col='home_win')\n",
    "\n",
    "# Make predictions\n",
    "predictions = model.predict(X)\n",
    "probabilities = model.predict_proba(X)[:, 1]\n",
    "\n",
    "# Evaluate\n",
    "print(\"Classification Report:\")\n",
    "print(classification_report(y, predictions, target_names=['Away Win', 'Home Win']))\n",
    "\n",
    "# Confusion matrix\n",
    "cm = confusion_matrix(y, predictions)\n",
    "plt.figure(figsize=(8, 6))\n",
    "sns.heatmap(cm, annot=True, fmt='d', cmap='Blues')\n",
    "plt.title('Confusion Matrix')\n",
    "plt.ylabel('Actual')\n",
    "plt.xlabel('Predicted')\n",
    "plt.show()"
   ]
  },
  {
   "cell_type": "markdown",
   "metadata": {},
   "source": [
    "## Calibration Plot"
   ]
  },
  {
   "cell_type": "code",
   "execution_count": null,
   "metadata": {},
   "outputs": [],
   "source": [
    "# Create bins for probabilities\n",
    "bins = np.linspace(0, 1, 11)\n",
    "bin_centers = (bins[:-1] + bins[1:]) / 2\n",
    "\n",
    "bin_indices = np.digitize(probabilities, bins) - 1\n",
    "bin_sums = np.bincount(bin_indices, weights=y, minlength=len(bins)-1)\n",
    "bin_counts = np.bincount(bin_indices, minlength=len(bins)-1)\n",
    "\n",
    "bin_means = bin_sums / np.maximum(bin_counts, 1)\n",
    "\n",
    "plt.figure(figsize=(10, 6))\n",
    "plt.plot([0, 1], [0, 1], 'k--', label='Perfect calibration')\n",
    "plt.plot(bin_centers, bin_means, 'o-', label='Model calibration')\n",
    "plt.xlabel('Predicted Probability')\n",
    "plt.ylabel('Actual Probability')\n",
    "plt.title('Calibration Plot')\n",
    "plt.legend()\n",
    "plt.grid(True)\n",
    "plt.show()"
   ]
  },
  {
   "cell_type": "markdown",
   "metadata": {},
   "source": [
    "## Backtest Analysis"
   ]
  },
  {
   "cell_type": "code",
   "execution_count": null,
   "metadata": {},
   "outputs": [],
   "source": [
    "from backtesting.engine import BacktestEngine\n",
    "from backtesting.strategies import KellyCriterionStrategy\n",
    "\n",
    "# Run backtest\n",
    "strategy = KellyCriterionStrategy(fraction=0.25, bankroll=10000)\n",
    "engine = BacktestEngine()\n",
    "results = engine.run_backtest(strategy, features, predictions, probabilities)\n",
    "\n",
    "# Plot bankroll history\n",
    "plt.figure(figsize=(12, 6))\n",
    "plt.plot(results['bankroll_history'])\n",
    "plt.axhline(y=10000, color='r', linestyle='--', label='Starting bankroll')\n",
    "plt.xlabel('Bet Number')\n",
    "plt.ylabel('Bankroll ($)')\n",
    "plt.title('Kelly Criterion Strategy - Bankroll Over Time')\n",
    "plt.legend()\n",
    "plt.grid(True)\n",
    "plt.show()\n",
    "\n",
    "# Display metrics\n",
    "from backtesting.metrics import BettingMetrics\n",
    "BettingMetrics.print_metrics_report(results['metrics'])"
   ]
  }
 ],
 "metadata": {
  "kernelspec": {
   "display_name": "Python 3",
   "language": "python",
   "name": "python3"
  },
  "language_info": {
   "codemirror_mode": {
    "name": "ipython",
    "version": 3
   },
   "file_extension": ".py",
   "mimetype": "text/x-python",
   "name": "python",
   "nbconvert_exporter": "python",
   "pygments_lexer": "ipython3",
   "version": "3.8.0"
  }
 },
 "nbformat": 4,
 "nbformat_minor": 4
}
